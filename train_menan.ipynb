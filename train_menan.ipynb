{
 "cells": [
  {
   "cell_type": "code",
   "execution_count": 1,
   "id": "be04c15d-50d6-471b-899c-6b87c96b8cb3",
   "metadata": {
    "execution": {
     "iopub.execute_input": "2024-05-08T11:35:27.407498Z",
     "iopub.status.busy": "2024-05-08T11:35:27.406652Z",
     "iopub.status.idle": "2024-05-08T11:35:49.384360Z",
     "shell.execute_reply": "2024-05-08T11:35:49.383616Z",
     "shell.execute_reply.started": "2024-05-08T11:35:27.407449Z"
    },
    "tags": []
   },
   "outputs": [
    {
     "name": "stderr",
     "output_type": "stream",
     "text": [
      "/home/jupyter/.local/lib/python3.10/site-packages/transformers/utils/hub.py:124: FutureWarning: Using `TRANSFORMERS_CACHE` is deprecated and will be removed in v5 of Transformers. Use `HF_HOME` instead.\n",
      "  warnings.warn(\n",
      "/home/jupyter/.local/lib/python3.10/site-packages/huggingface_hub/file_download.py:1132: FutureWarning: `resume_download` is deprecated and will be removed in version 1.0.0. Downloads always resume when possible. If you want to force a new download, use `force_download=True`.\n",
      "  warnings.warn(\n"
     ]
    }
   ],
   "source": [
    "import pandas as pd\n",
    "import numpy as np\n",
    "from sklearn.preprocessing import LabelEncoder\n",
    "from transformers import RobertaTokenizer\n",
    "import torch\n",
    "from torch.utils.data import Dataset, DataLoader\n",
    "\n",
    "train_data = pd.read_csv('/home/jupyter/datasphere/project/train_dataset_without132.csv')\n",
    "validation_data = pd.read_csv('/home/jupyter/datasphere/project/test_dataset_without132.csv')\n",
    "\n",
    "train_data['sentence'].fillna('', inplace=True)\n",
    "validation_data['sentence'].fillna('', inplace=True)\n",
    "\n",
    "label_encoder = LabelEncoder()\n",
    "train_labels = label_encoder.fit_transform(train_data['author_id'])\n",
    "validation_labels = label_encoder.transform(validation_data['author_id'])\n",
    "\n",
    "tokenizer = RobertaTokenizer.from_pretrained(\"wantuta/roberta_ancient_greek_mlm\")\n",
    "\n",
    "def tokenize_data(data, tokenizer):\n",
    "    return tokenizer(data.tolist(), padding=True, truncation=True, max_length=512, return_tensors=\"pt\")\n",
    "\n",
    "train_encodings = tokenize_data(train_data['sentence'], tokenizer)\n",
    "validation_encodings = tokenize_data(validation_data['sentence'], tokenizer)\n",
    "\n",
    "class GreekTextDataset(Dataset):\n",
    "    def __init__(self, encodings, labels):\n",
    "        self.encodings = encodings\n",
    "        self.labels = labels\n",
    "\n",
    "    def __getitem__(self, idx):\n",
    "        item = {key: val[idx] for key, val in self.encodings.items()}\n",
    "        item['labels'] = torch.tensor(self.labels[idx], dtype=torch.long)\n",
    "        return item\n",
    "\n",
    "    def __len__(self):\n",
    "        return len(self.labels)\n",
    "\n",
    "train_dataset = GreekTextDataset(train_encodings, train_labels)\n",
    "validation_dataset = GreekTextDataset(validation_encodings, validation_labels)\n",
    "\n",
    "train_loader = DataLoader(train_dataset, batch_size=8, shuffle=True)\n",
    "validation_loader = DataLoader(validation_dataset, batch_size=8, shuffle=False)\n",
    "\n",
    "\n"
   ]
  },
  {
   "cell_type": "code",
   "execution_count": 2,
   "id": "9f8894cd-d965-4eb9-b13c-6938e1b09487",
   "metadata": {
    "execution": {
     "iopub.execute_input": "2024-05-08T11:36:38.193106Z",
     "iopub.status.busy": "2024-05-08T11:36:38.192404Z",
     "iopub.status.idle": "2024-05-08T11:37:26.335305Z",
     "shell.execute_reply": "2024-05-08T11:37:26.334568Z",
     "shell.execute_reply.started": "2024-05-08T11:36:38.193065Z"
    },
    "tags": []
   },
   "outputs": [
    {
     "name": "stderr",
     "output_type": "stream",
     "text": [
      "2024-05-08 11:36:47.866910: W tensorflow/compiler/tf2tensorrt/utils/py_utils.cc:38] TF-TRT Warning: Could not find TensorRT\n",
      "/home/jupyter/.local/lib/python3.10/site-packages/huggingface_hub/file_download.py:1132: FutureWarning: `resume_download` is deprecated and will be removed in version 1.0.0. Downloads always resume when possible. If you want to force a new download, use `force_download=True`.\n",
      "  warnings.warn(\n",
      "Some weights of RobertaForSequenceClassification were not initialized from the model checkpoint at wantuta/roberta_ancient_greek_mlm and are newly initialized: ['classifier.dense.bias', 'classifier.dense.weight', 'classifier.out_proj.bias', 'classifier.out_proj.weight']\n",
      "You should probably TRAIN this model on a down-stream task to be able to use it for predictions and inference.\n"
     ]
    }
   ],
   "source": [
    "from transformers import RobertaForSequenceClassification, Trainer, TrainingArguments\n",
    "\n",
    "model = RobertaForSequenceClassification.from_pretrained(\"wantuta/roberta_ancient_greek_mlm\", num_labels=len(label_encoder.classes_))\n"
   ]
  },
  {
   "cell_type": "code",
   "execution_count": 3,
   "id": "7f977be0-d03a-42f7-86d9-a3f0c7bfdaed",
   "metadata": {
    "execution": {
     "iopub.execute_input": "2024-05-08T11:37:29.255898Z",
     "iopub.status.busy": "2024-05-08T11:37:29.254976Z",
     "iopub.status.idle": "2024-05-08T11:37:29.718004Z",
     "shell.execute_reply": "2024-05-08T11:37:29.717284Z",
     "shell.execute_reply.started": "2024-05-08T11:37:29.255862Z"
    },
    "tags": []
   },
   "outputs": [
    {
     "data": {
      "text/plain": [
       "RobertaForSequenceClassification(\n",
       "  (roberta): RobertaModel(\n",
       "    (embeddings): RobertaEmbeddings(\n",
       "      (word_embeddings): Embedding(52000, 768, padding_idx=1)\n",
       "      (position_embeddings): Embedding(514, 768, padding_idx=1)\n",
       "      (token_type_embeddings): Embedding(1, 768)\n",
       "      (LayerNorm): LayerNorm((768,), eps=1e-12, elementwise_affine=True)\n",
       "      (dropout): Dropout(p=0.1, inplace=False)\n",
       "    )\n",
       "    (encoder): RobertaEncoder(\n",
       "      (layer): ModuleList(\n",
       "        (0-11): 12 x RobertaLayer(\n",
       "          (attention): RobertaAttention(\n",
       "            (self): RobertaSelfAttention(\n",
       "              (query): Linear(in_features=768, out_features=768, bias=True)\n",
       "              (key): Linear(in_features=768, out_features=768, bias=True)\n",
       "              (value): Linear(in_features=768, out_features=768, bias=True)\n",
       "              (dropout): Dropout(p=0.1, inplace=False)\n",
       "            )\n",
       "            (output): RobertaSelfOutput(\n",
       "              (dense): Linear(in_features=768, out_features=768, bias=True)\n",
       "              (LayerNorm): LayerNorm((768,), eps=1e-12, elementwise_affine=True)\n",
       "              (dropout): Dropout(p=0.1, inplace=False)\n",
       "            )\n",
       "          )\n",
       "          (intermediate): RobertaIntermediate(\n",
       "            (dense): Linear(in_features=768, out_features=3072, bias=True)\n",
       "            (intermediate_act_fn): GELUActivation()\n",
       "          )\n",
       "          (output): RobertaOutput(\n",
       "            (dense): Linear(in_features=3072, out_features=768, bias=True)\n",
       "            (LayerNorm): LayerNorm((768,), eps=1e-12, elementwise_affine=True)\n",
       "            (dropout): Dropout(p=0.1, inplace=False)\n",
       "          )\n",
       "        )\n",
       "      )\n",
       "    )\n",
       "  )\n",
       "  (classifier): RobertaClassificationHead(\n",
       "    (dense): Linear(in_features=768, out_features=768, bias=True)\n",
       "    (dropout): Dropout(p=0.1, inplace=False)\n",
       "    (out_proj): Linear(in_features=768, out_features=11, bias=True)\n",
       "  )\n",
       ")"
      ]
     },
     "execution_count": 3,
     "metadata": {},
     "output_type": "execute_result"
    }
   ],
   "source": [
    "device = torch.device(\"cuda\" if torch.cuda.is_available() else \"cpu\")\n",
    "model.to(device)"
   ]
  },
  {
   "cell_type": "code",
   "execution_count": 4,
   "id": "729331de-46db-42f5-ae2a-1f0c21bb42ed",
   "metadata": {
    "execution": {
     "iopub.execute_input": "2024-05-08T11:38:00.522538Z",
     "iopub.status.busy": "2024-05-08T11:38:00.521424Z",
     "iopub.status.idle": "2024-05-08T11:38:00.622321Z",
     "shell.execute_reply": "2024-05-08T11:38:00.621449Z",
     "shell.execute_reply.started": "2024-05-08T11:38:00.522500Z"
    },
    "tags": []
   },
   "outputs": [],
   "source": [
    "from transformers import TrainingArguments\n",
    "\n",
    "training_args = TrainingArguments(\n",
    "    output_dir='./results_menan2',\n",
    "    save_strategy=\"epoch\",\n",
    "    num_train_epochs=10,\n",
    "    per_device_train_batch_size=8,\n",
    "    per_device_eval_batch_size=8,\n",
    "    warmup_steps=500,\n",
    "    weight_decay=0.01,\n",
    "    logging_dir='./logs',\n",
    "    logging_strategy=\"epoch\",\n",
    "    learning_rate=2e-5,\n",
    "    adam_epsilon=1e-8,\n",
    "    evaluation_strategy=\"no\",\n",
    "    lr_scheduler_type='linear'\n",
    ")\n",
    "\n"
   ]
  },
  {
   "cell_type": "code",
   "execution_count": null,
   "id": "333ceb7a-3a1c-421e-b61c-ddb533d096c6",
   "metadata": {
    "execution": {
     "iopub.execute_input": "2024-05-08T11:38:26.364310Z",
     "iopub.status.busy": "2024-05-08T11:38:26.363610Z"
    },
    "tags": []
   },
   "outputs": [
    {
     "name": "stderr",
     "output_type": "stream",
     "text": [
      " 10%|█         | 564/5640 [06:28<52:34,  1.61it/s]  "
     ]
    },
    {
     "name": "stdout",
     "output_type": "stream",
     "text": [
      "{'loss': 2.0733, 'grad_norm': 13.418465614318848, 'learning_rate': 1.9750972762645916e-05, 'epoch': 1.0}\n"
     ]
    },
    {
     "name": "stderr",
     "output_type": "stream",
     "text": [
      " 20%|██        | 1128/5640 [12:59<46:55,  1.60it/s]"
     ]
    },
    {
     "name": "stdout",
     "output_type": "stream",
     "text": [
      "{'loss': 1.2739, 'grad_norm': 29.82314682006836, 'learning_rate': 1.7556420233463038e-05, 'epoch': 2.0}\n"
     ]
    },
    {
     "name": "stderr",
     "output_type": "stream",
     "text": [
      " 30%|███       | 1692/5640 [19:30<40:55,  1.61it/s]"
     ]
    },
    {
     "name": "stdout",
     "output_type": "stream",
     "text": [
      "{'loss': 0.8115, 'grad_norm': 28.8740291595459, 'learning_rate': 1.536186770428016e-05, 'epoch': 3.0}\n"
     ]
    },
    {
     "name": "stderr",
     "output_type": "stream",
     "text": [
      " 40%|████      | 2256/5640 [26:01<34:56,  1.61it/s]"
     ]
    },
    {
     "name": "stdout",
     "output_type": "stream",
     "text": [
      "{'loss': 0.5333, 'grad_norm': 9.257452011108398, 'learning_rate': 1.3167315175097276e-05, 'epoch': 4.0}\n"
     ]
    },
    {
     "name": "stderr",
     "output_type": "stream",
     "text": [
      " 50%|█████     | 2820/5640 [32:31<28:58,  1.62it/s]"
     ]
    },
    {
     "name": "stdout",
     "output_type": "stream",
     "text": [
      "{'loss': 0.3659, 'grad_norm': 45.5954475402832, 'learning_rate': 1.0972762645914398e-05, 'epoch': 5.0}\n"
     ]
    },
    {
     "name": "stderr",
     "output_type": "stream",
     "text": [
      " 60%|██████    | 3384/5640 [39:02<23:18,  1.61it/s]"
     ]
    },
    {
     "name": "stdout",
     "output_type": "stream",
     "text": [
      "{'loss': 0.2653, 'grad_norm': 14.358227729797363, 'learning_rate': 8.778210116731519e-06, 'epoch': 6.0}\n"
     ]
    },
    {
     "name": "stderr",
     "output_type": "stream",
     "text": [
      " 70%|███████   | 3948/5640 [45:33<17:27,  1.61it/s]"
     ]
    },
    {
     "name": "stdout",
     "output_type": "stream",
     "text": [
      "{'loss': 0.2015, 'grad_norm': 0.2668917775154114, 'learning_rate': 6.583657587548638e-06, 'epoch': 7.0}\n"
     ]
    },
    {
     "name": "stderr",
     "output_type": "stream",
     "text": [
      " 80%|████████  | 4512/5640 [52:04<11:41,  1.61it/s]"
     ]
    },
    {
     "name": "stdout",
     "output_type": "stream",
     "text": [
      "{'loss': 0.1804, 'grad_norm': 0.0899043008685112, 'learning_rate': 4.389105058365759e-06, 'epoch': 8.0}\n"
     ]
    },
    {
     "name": "stderr",
     "output_type": "stream",
     "text": [
      " 90%|█████████ | 5076/5640 [58:35<05:50,  1.61it/s]"
     ]
    },
    {
     "name": "stdout",
     "output_type": "stream",
     "text": [
      "{'loss': 0.1682, 'grad_norm': 0.29010331630706787, 'learning_rate': 2.1945525291828797e-06, 'epoch': 9.0}\n"
     ]
    },
    {
     "name": "stderr",
     "output_type": "stream",
     "text": [
      " 99%|█████████▉| 5586/5640 [1:04:28<00:37,  1.45it/s]"
     ]
    }
   ],
   "source": [
    "from transformers import Trainer\n",
    "\n",
    "trainer = Trainer(\n",
    "    model=model,\n",
    "    args=training_args,\n",
    "    train_dataset=train_dataset\n",
    ")\n",
    "\n",
    "trainer.train()\n",
    "\n",
    "model.save_pretrained(\"./roberta_attempt_menan2\")\n",
    "\n",
    "import joblib\n",
    "joblib.dump(label_encoder, \"./roberta_attempt_menan2/label_encoder.pkl\")\n",
    "\n",
    "tokenizer.save_pretrained(\"./roberta_attempt_menan2\")\n",
    "\n"
   ]
  },
  {
   "cell_type": "code",
   "execution_count": 1,
   "id": "8302db48-17e3-4528-8c5d-cec261006763",
   "metadata": {
    "execution": {
     "iopub.execute_input": "2024-05-03T17:31:42.596308Z",
     "iopub.status.busy": "2024-05-03T17:31:42.595728Z",
     "iopub.status.idle": "2024-05-03T17:31:44.067159Z",
     "shell.execute_reply": "2024-05-03T17:31:44.066441Z",
     "shell.execute_reply.started": "2024-05-03T17:31:42.596279Z"
    },
    "tags": []
   },
   "outputs": [],
   "source": [
    "import pandas as pd\n",
    "from sklearn.preprocessing import LabelEncoder\n",
    "import pickle\n",
    "\n",
    "test_df_path = 'testing_data_updated.csv'\n",
    "test_df = pd.read_csv(test_df_path)"
   ]
  },
  {
   "cell_type": "code",
   "execution_count": 13,
   "id": "e4b74d0e-d5b9-433b-a548-07268a9781c6",
   "metadata": {
    "execution": {
     "iopub.execute_input": "2024-05-03T18:11:42.023783Z",
     "iopub.status.busy": "2024-05-03T18:11:42.023258Z",
     "iopub.status.idle": "2024-05-03T18:11:42.059329Z",
     "shell.execute_reply": "2024-05-03T18:11:42.058478Z",
     "shell.execute_reply.started": "2024-05-03T18:11:42.023757Z"
    },
    "tags": []
   },
   "outputs": [],
   "source": [
    "import pandas as pd\n",
    "from sklearn.preprocessing import LabelEncoder\n",
    "import pickle\n",
    "\n",
    "test_df_path = 'testing_data_updated.csv'\n",
    "test_df = pd.read_csv(test_df_path)\n",
    "\n",
    "with open('label_encoder.pkl', 'wb') as file:\n",
    "    pickle.dump(label_encoder, file)\n"
   ]
  },
  {
   "cell_type": "code",
   "execution_count": 16,
   "id": "b88300f6-d4a5-43c7-9345-e85be94d6d9d",
   "metadata": {
    "execution": {
     "iopub.execute_input": "2024-05-03T18:13:03.698661Z",
     "iopub.status.busy": "2024-05-03T18:13:03.698201Z",
     "iopub.status.idle": "2024-05-03T18:13:18.491979Z",
     "shell.execute_reply": "2024-05-03T18:13:18.491224Z",
     "shell.execute_reply.started": "2024-05-03T18:13:03.698635Z"
    },
    "tags": []
   },
   "outputs": [],
   "source": [
    "from transformers import RobertaTokenizer, RobertaForSequenceClassification\n",
    "tokenizer = RobertaTokenizer.from_pretrained(\"wantuta/roberta_classifier_ancient2\")\n",
    "model = RobertaForSequenceClassification.from_pretrained(\"wantuta/roberta_classifier_ancient2\")"
   ]
  },
  {
   "cell_type": "code",
   "execution_count": 17,
   "id": "d42ecfc6-dab8-4085-9df5-1fa075637853",
   "metadata": {
    "execution": {
     "iopub.execute_input": "2024-05-03T18:13:21.258102Z",
     "iopub.status.busy": "2024-05-03T18:13:21.257423Z",
     "iopub.status.idle": "2024-05-03T18:13:21.269878Z",
     "shell.execute_reply": "2024-05-03T18:13:21.269138Z",
     "shell.execute_reply.started": "2024-05-03T18:13:21.258076Z"
    },
    "tags": []
   },
   "outputs": [],
   "source": [
    "def tokenize_and_prepare_data(df, tokenizer, label_encoder, max_length=512):\n",
    "    input_ids = []\n",
    "    attention_masks = []\n",
    "    labels = []\n",
    "    for _, row in df.iterrows():\n",
    "        encoded_dict = tokenizer.encode_plus(\n",
    "            row['sentence'],\n",
    "            add_special_tokens=True,\n",
    "            max_length=max_length,\n",
    "            padding='max_length',\n",
    "            return_attention_mask=True,\n",
    "            truncation=True,\n",
    "            return_tensors='pt'\n",
    "        )\n",
    "        input_ids.append(encoded_dict['input_ids'])\n",
    "        attention_masks.append(encoded_dict['attention_mask'])\n",
    "        labels.append(label_encoder.transform([row['author_id']])[0])\n",
    "    input_ids = torch.cat(input_ids, dim=0)\n",
    "    attention_masks = torch.cat(attention_masks, dim=0)\n",
    "    labels = torch.tensor(labels)\n",
    "    return input_ids, attention_masks, labels\n"
   ]
  },
  {
   "cell_type": "code",
   "execution_count": 18,
   "id": "6b1749a9-5d38-417d-a58a-4fa70f35b880",
   "metadata": {
    "execution": {
     "iopub.execute_input": "2024-05-03T18:13:25.398008Z",
     "iopub.status.busy": "2024-05-03T18:13:25.397309Z",
     "iopub.status.idle": "2024-05-03T18:13:25.409868Z",
     "shell.execute_reply": "2024-05-03T18:13:25.409162Z",
     "shell.execute_reply.started": "2024-05-03T18:13:25.397971Z"
    },
    "tags": []
   },
   "outputs": [],
   "source": [
    "test_df = test_df.dropna(subset=['sentence'])"
   ]
  },
  {
   "cell_type": "code",
   "execution_count": 19,
   "id": "7119f35a-97fe-40ce-a98d-ad880d50bdbb",
   "metadata": {
    "execution": {
     "iopub.execute_input": "2024-05-03T18:13:28.831003Z",
     "iopub.status.busy": "2024-05-03T18:13:28.830267Z",
     "iopub.status.idle": "2024-05-03T18:13:30.003584Z",
     "shell.execute_reply": "2024-05-03T18:13:30.002848Z",
     "shell.execute_reply.started": "2024-05-03T18:13:28.830966Z"
    },
    "tags": []
   },
   "outputs": [
    {
     "data": {
      "text/plain": [
       "RobertaForSequenceClassification(\n",
       "  (roberta): RobertaModel(\n",
       "    (embeddings): RobertaEmbeddings(\n",
       "      (word_embeddings): Embedding(52000, 768, padding_idx=1)\n",
       "      (position_embeddings): Embedding(514, 768, padding_idx=1)\n",
       "      (token_type_embeddings): Embedding(1, 768)\n",
       "      (LayerNorm): LayerNorm((768,), eps=1e-12, elementwise_affine=True)\n",
       "      (dropout): Dropout(p=0.1, inplace=False)\n",
       "    )\n",
       "    (encoder): RobertaEncoder(\n",
       "      (layer): ModuleList(\n",
       "        (0-11): 12 x RobertaLayer(\n",
       "          (attention): RobertaAttention(\n",
       "            (self): RobertaSelfAttention(\n",
       "              (query): Linear(in_features=768, out_features=768, bias=True)\n",
       "              (key): Linear(in_features=768, out_features=768, bias=True)\n",
       "              (value): Linear(in_features=768, out_features=768, bias=True)\n",
       "              (dropout): Dropout(p=0.1, inplace=False)\n",
       "            )\n",
       "            (output): RobertaSelfOutput(\n",
       "              (dense): Linear(in_features=768, out_features=768, bias=True)\n",
       "              (LayerNorm): LayerNorm((768,), eps=1e-12, elementwise_affine=True)\n",
       "              (dropout): Dropout(p=0.1, inplace=False)\n",
       "            )\n",
       "          )\n",
       "          (intermediate): RobertaIntermediate(\n",
       "            (dense): Linear(in_features=768, out_features=3072, bias=True)\n",
       "            (intermediate_act_fn): GELUActivation()\n",
       "          )\n",
       "          (output): RobertaOutput(\n",
       "            (dense): Linear(in_features=3072, out_features=768, bias=True)\n",
       "            (LayerNorm): LayerNorm((768,), eps=1e-12, elementwise_affine=True)\n",
       "            (dropout): Dropout(p=0.1, inplace=False)\n",
       "          )\n",
       "        )\n",
       "      )\n",
       "    )\n",
       "  )\n",
       "  (classifier): RobertaClassificationHead(\n",
       "    (dense): Linear(in_features=768, out_features=768, bias=True)\n",
       "    (dropout): Dropout(p=0.1, inplace=False)\n",
       "    (out_proj): Linear(in_features=768, out_features=11, bias=True)\n",
       "  )\n",
       ")"
      ]
     },
     "execution_count": 19,
     "metadata": {},
     "output_type": "execute_result"
    }
   ],
   "source": [
    "from torch.utils.data import DataLoader, TensorDataset\n",
    "import torch\n",
    "\n",
    "test_input_ids, test_attention_masks, test_labels = tokenize_and_prepare_data(test_df, tokenizer, label_encoder)\n",
    "\n",
    "test_dataset = TensorDataset(test_input_ids, test_attention_masks, test_labels)\n",
    "\n",
    "batch_size = 16 \n",
    "test_dataloader = DataLoader(test_dataset, batch_size=batch_size, shuffle=False)\n",
    "\n",
    "device = torch.device(\"cuda\" if torch.cuda.is_available() else \"cpu\")\n",
    "model.to(device)\n"
   ]
  },
  {
   "cell_type": "code",
   "execution_count": 20,
   "id": "db196373-c6ae-4dd5-b0f6-4f154edf5061",
   "metadata": {
    "execution": {
     "iopub.execute_input": "2024-05-03T18:13:38.226541Z",
     "iopub.status.busy": "2024-05-03T18:13:38.225760Z",
     "iopub.status.idle": "2024-05-03T18:16:18.917816Z",
     "shell.execute_reply": "2024-05-03T18:16:18.916818Z",
     "shell.execute_reply.started": "2024-05-03T18:13:38.226507Z"
    },
    "tags": []
   },
   "outputs": [],
   "source": [
    "import numpy as np\n",
    "import torch\n",
    "from sklearn.metrics import accuracy_score, recall_score, f1_score, confusion_matrix\n",
    "import matplotlib.pyplot as plt\n",
    "import seaborn as sns\n",
    "\n",
    "model.eval()  \n",
    "predictions = []\n",
    "true_labels = []\n",
    "\n",
    "for batch in test_dataloader:\n",
    "    batch = tuple(t.to(device) for t in batch)  \n",
    "    b_input_ids, b_input_mask, b_labels = batch\n",
    "\n",
    "    with torch.no_grad():\n",
    "        outputs = model(b_input_ids, attention_mask=b_input_mask)\n",
    "\n",
    "    logits = outputs.logits\n",
    "    logits = logits.detach().cpu().numpy() \n",
    "    label_ids = b_labels.to('cpu').numpy()  \n",
    "    \n",
    "    predictions.append(logits)\n",
    "    true_labels.append(label_ids)\n",
    "\n",
    "predictions = np.concatenate(predictions, axis=0)\n",
    "true_labels = np.concatenate(true_labels, axis=0)\n",
    "\n",
    "predicted_labels_numeric = np.argmax(predictions, axis=1)\n",
    "\n"
   ]
  },
  {
   "cell_type": "code",
   "execution_count": 8,
   "id": "f99de110-cca5-4cd8-af0a-cf02139f4f22",
   "metadata": {
    "execution": {
     "iopub.execute_input": "2024-05-03T18:02:39.498504Z",
     "iopub.status.busy": "2024-05-03T18:02:39.497668Z",
     "iopub.status.idle": "2024-05-03T18:02:40.210978Z",
     "shell.execute_reply": "2024-05-03T18:02:40.210135Z",
     "shell.execute_reply.started": "2024-05-03T18:02:39.498461Z"
    },
    "tags": []
   },
   "outputs": [
    {
     "data": {
      "image/png": "[encoded data removed]",
      "text/plain": [
       "<Figure size 720x504 with 2 Axes>"
      ]
     },
     "metadata": {
      "needs_background": "light"
     },
     "output_type": "display_data"
    },
    {
     "name": "stdout",
     "output_type": "stream",
     "text": [
      "Полнота (Recall): 0.7211538461538461\n",
      "F1-мера: 0.7263216070553766\n",
      "Точность на тестовом наборе данных: 0.7211538461538461\n"
     ]
    }
   ],
   "source": [
    "\n",
    "cm = confusion_matrix(true_labels, predicted_labels_numeric)\n",
    "\n",
    "\n",
    "plt.figure(figsize=(10, 7))\n",
    "sns.heatmap(cm, annot=True, fmt=\"d\", cmap=\"Blues\", cbar_kws={\"shrink\": 0.8})\n",
    "plt.title('Confusion Matrix')\n",
    "plt.ylabel('True Labels')\n",
    "plt.xlabel('Predicted Labels')\n",
    "plt.show()\n",
    "\n",
    "predicted_labels_text = label_encoder.inverse_transform(predicted_labels_numeric)\n",
    "\n",
    "accuracy = accuracy_score(label_encoder.inverse_transform(true_labels), predicted_labels_text)\n",
    "recall = recall_score(label_encoder.inverse_transform(true_labels), predicted_labels_text, average='macro')\n",
    "f1 = f1_score(label_encoder.inverse_transform(true_labels), predicted_labels_text, average='macro')\n",
    "\n",
    "print(\"Полнота (Recall):\", recall)\n",
    "print(\"F1-мера:\", f1)\n",
    "print(\"Точность\", accuracy)"
   ]
  }
 ],
 "metadata": {
  "kernelspec": {
   "display_name": "Python 3 (ipykernel)",
   "language": "python",
   "name": "python3"
  },
  "language_info": {
   "codemirror_mode": {
    "name": "ipython",
    "version": 3
   },
   "file_extension": ".py",
   "mimetype": "text/x-python",
   "name": "python",
   "nbconvert_exporter": "python",
   "pygments_lexer": "ipython3",
   "version": "3.10.12"
  }
 },
 "nbformat": 4,
 "nbformat_minor": 5
}

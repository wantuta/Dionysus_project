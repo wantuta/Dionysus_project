{
 "cells": [
  {
   "cell_type": "code",
   "execution_count": 14,
   "id": "faeed44c",
   "metadata": {},
   "outputs": [
    {
     "name": "stderr",
     "output_type": "stream",
     "text": [
      "[nltk_data] Downloading package punkt to\n",
      "[nltk_data]     C:\\Users\\wantu\\AppData\\Roaming\\nltk_data...\n",
      "[nltk_data]   Package punkt is already up-to-date!\n"
     ]
    },
    {
     "data": {
      "text/plain": [
       "True"
      ]
     },
     "execution_count": 14,
     "metadata": {},
     "output_type": "execute_result"
    }
   ],
   "source": [
    "import os\n",
    "import pandas as pd\n",
    "import os\n",
    "import nltk\n",
    "from nltk.tokenize import sent_tokenize\n",
    "import joblib\n",
    "from transformers import RobertaTokenizer, RobertaForSequenceClassification, pipeline\n",
    "import torch\n",
    "\n",
    "nltk.download('punkt')\n"
   ]
  },
  {
   "cell_type": "code",
   "execution_count": 3,
   "id": "b6d4db32",
   "metadata": {},
   "outputs": [
    {
     "name": "stderr",
     "output_type": "stream",
     "text": [
      "C:\\Users\\wantu\\anaconda3\\lib\\site-packages\\sklearn\\base.py:310: UserWarning: Trying to unpickle estimator LabelEncoder from version 1.2.2 when using version 0.24.2. This might lead to breaking code or invalid results. Use at your own risk.\n",
      "  warnings.warn(\n"
     ]
    }
   ],
   "source": [
    "label_encoder = joblib.load(r'C:\\Users\\wantu\\Desktop\\hse\\роберта без менандра1\\label_encoder.pkl')"
   ]
  },
  {
   "cell_type": "code",
   "execution_count": 11,
   "id": "d1b67587",
   "metadata": {},
   "outputs": [
    {
     "name": "stderr",
     "output_type": "stream",
     "text": [
      "Special tokens have been added in the vocabulary, make sure the associated word embeddings are fine-tuned or trained.\n"
     ]
    }
   ],
   "source": [
    "tokenizer = RobertaTokenizer.from_pretrained('wantuta/roberta_classifier_menander2')\n",
    "model = RobertaForSequenceClassification.from_pretrained('wantuta/roberta_classifier_menander2')"
   ]
  },
  {
   "cell_type": "code",
   "execution_count": 12,
   "id": "b169f5c6",
   "metadata": {},
   "outputs": [],
   "source": [
    "def classify_text(text, tokenizer, model, label_encoder):\n",
    "    sentences = sent_tokenize(text)\n",
    "    classifier = pipeline('text-classification', model=model, tokenizer=tokenizer, device=0 if torch.cuda.is_available() else -1)\n",
    "    results = classifier(sentences, truncation=True, max_length=512)\n",
    "    for result in results:\n",
    "        result['label'] = label_encoder.inverse_transform([int(result['label'].split('_')[-1])])[0]\n",
    "    return results"
   ]
  },
  {
   "cell_type": "code",
   "execution_count": 15,
   "id": "35017ca7",
   "metadata": {},
   "outputs": [
    {
     "name": "stdout",
     "output_type": "stream",
     "text": [
      "Results for 1.txt:\n",
      "       Author  Count  Percentage Chapter\n",
      "0      Others     11       68.75   1.txt\n",
      "1    Menander      3       18.75   1.txt\n",
      "2  Hermogenes      1        6.25   1.txt\n",
      "3   Demetrius      1        6.25   1.txt\n",
      "\n",
      "\n",
      "Results for 10.txt:\n",
      "                       Author  Count  Percentage Chapter\n",
      "0                      Others     11       52.38  10.txt\n",
      "1                    Menander      7       33.33  10.txt\n",
      "2                   Demetrius      2        9.52  10.txt\n",
      "3  Dionysius Halicarnassensis      1        4.76  10.txt\n",
      "\n",
      "\n",
      "Results for 11.txt:\n",
      "                       Author  Count  Percentage Chapter\n",
      "0                      Others     28       49.12  11.txt\n",
      "1                    Menander     12       21.05  11.txt\n",
      "2                   Demetrius      9       15.79  11.txt\n",
      "3            Aelius Aristides      3        5.26  11.txt\n",
      "4  Dionysius Halicarnassensis      2        3.51  11.txt\n",
      "5                  Hermogenes      2        3.51  11.txt\n",
      "6            Valerius Apsines      1        1.75  11.txt\n",
      "\n",
      "\n",
      "Results for 12.txt:\n",
      "             Author  Count  Percentage Chapter\n",
      "0          Menander      3       42.86  12.txt\n",
      "1         Demetrius      2       28.57  12.txt\n",
      "2            Others      1       14.29  12.txt\n",
      "3  Valerius Apsines      1       14.29  12.txt\n",
      "\n",
      "\n",
      "Results for 13.txt:\n",
      "      Author  Count  Percentage Chapter\n",
      "0  Demetrius      1        50.0  13.txt\n",
      "1   Menander      1        50.0  13.txt\n",
      "\n",
      "\n",
      "Results for 14.txt:\n",
      "                       Author  Count  Percentage Chapter\n",
      "0                   Demetrius      4       36.36  14.txt\n",
      "1                      Others      3       27.27  14.txt\n",
      "2            Aelius Aristides      2       18.18  14.txt\n",
      "3  Dionysius Halicarnassensis      1        9.09  14.txt\n",
      "4                    Menander      1        9.09  14.txt\n",
      "\n",
      "\n",
      "Results for 15.txt:\n",
      "                                    Author  Count  Percentage Chapter\n",
      "0                                   Others     22       34.38  15.txt\n",
      "1                                 Menander     16       25.00  15.txt\n",
      "2                                Demetrius      7       10.94  15.txt\n",
      "3               Dionysius Halicarnassensis      6        9.38  15.txt\n",
      "4                         Aelius Aristides      4        6.25  15.txt\n",
      "5                         Valerius Apsines      4        6.25  15.txt\n",
      "6                               Hermogenes      3        4.69  15.txt\n",
      "7  Aelius Herodianus and Pseudo Herodianus      1        1.56  15.txt\n",
      "8                                Alciphron      1        1.56  15.txt\n",
      "\n",
      "\n",
      "Results for 16.txt:\n",
      "                       Author  Count  Percentage Chapter\n",
      "0                      Others     41       49.40  16.txt\n",
      "1                    Menander     17       20.48  16.txt\n",
      "2                   Demetrius      6        7.23  16.txt\n",
      "3  Dionysius Halicarnassensis      5        6.02  16.txt\n",
      "4            Valerius Apsines      5        6.02  16.txt\n",
      "5                  Hermogenes      4        4.82  16.txt\n",
      "6                   Alciphron      3        3.61  16.txt\n",
      "7                     Eudemus      1        1.20  16.txt\n",
      "8            Aelius Aristides      1        1.20  16.txt\n",
      "\n",
      "\n",
      "Results for 2.txt:\n",
      "                       Author  Count  Percentage Chapter\n",
      "0                      Others      9       50.00   2.txt\n",
      "1  Dionysius Halicarnassensis      3       16.67   2.txt\n",
      "2                   Demetrius      2       11.11   2.txt\n",
      "3            Aelius Aristides      2       11.11   2.txt\n",
      "4                     Eudemus      1        5.56   2.txt\n",
      "5                    Menander      1        5.56   2.txt\n",
      "\n",
      "\n",
      "Results for 3.txt:\n",
      "                                    Author  Count  Percentage Chapter\n",
      "0                                   Others      5       35.71   3.txt\n",
      "1                                Demetrius      3       21.43   3.txt\n",
      "2                                 Menander      2       14.29   3.txt\n",
      "3                               Hermogenes      2       14.29   3.txt\n",
      "4               Dionysius Halicarnassensis      1        7.14   3.txt\n",
      "5  Aelius Herodianus and Pseudo Herodianus      1        7.14   3.txt\n",
      "\n",
      "\n",
      "Results for 4.txt:\n",
      "             Author  Count  Percentage Chapter\n",
      "0            Others      4       44.44   4.txt\n",
      "1          Menander      3       33.33   4.txt\n",
      "2         Demetrius      1       11.11   4.txt\n",
      "3  Aelius Aristides      1       11.11   4.txt\n",
      "\n",
      "\n",
      "Results for 5.txt:\n",
      "                       Author  Count  Percentage Chapter\n",
      "0                      Others      7       50.00   5.txt\n",
      "1                  Hermogenes      3       21.43   5.txt\n",
      "2  Dionysius Halicarnassensis      2       14.29   5.txt\n",
      "3            Valerius Apsines      1        7.14   5.txt\n",
      "4                   Demetrius      1        7.14   5.txt\n",
      "\n",
      "\n",
      "Results for 6.txt:\n",
      "             Author  Count  Percentage Chapter\n",
      "0            Others     12       70.59   6.txt\n",
      "1         Demetrius      2       11.76   6.txt\n",
      "2          Menander      1        5.88   6.txt\n",
      "3  Aelius Aristides      1        5.88   6.txt\n",
      "4        Hermogenes      1        5.88   6.txt\n",
      "\n",
      "\n",
      "Results for 7.txt:\n",
      "      Author  Count  Percentage Chapter\n",
      "0     Others      4       57.14   7.txt\n",
      "1  Alciphron      1       14.29   7.txt\n",
      "2   Menander      1       14.29   7.txt\n",
      "3  Demetrius      1       14.29   7.txt\n",
      "\n",
      "\n",
      "Results for 8.txt:\n",
      "                                    Author  Count  Percentage Chapter\n",
      "0                                   Others      9       50.00   8.txt\n",
      "1                                Demetrius      6       33.33   8.txt\n",
      "2                                 Menander      2       11.11   8.txt\n",
      "3  Aelius Herodianus and Pseudo Herodianus      1        5.56   8.txt\n",
      "\n",
      "\n",
      "Results for 9.txt:\n",
      "                       Author  Count  Percentage Chapter\n",
      "0            Aelius Aristides      5       29.41   9.txt\n",
      "1                      Others      4       23.53   9.txt\n",
      "2                    Menander      3       17.65   9.txt\n",
      "3                  Hermogenes      2       11.76   9.txt\n",
      "4  Dionysius Halicarnassensis      2       11.76   9.txt\n",
      "5                   Demetrius      1        5.88   9.txt\n",
      "\n",
      "\n"
     ]
    }
   ],
   "source": [
    "directory_path = r'C:\\Users\\wantu\\Desktop\\hse\\menan132 главы'\n",
    "\n",
    "chapter_authors = {}\n",
    "\n",
    "for filename in os.listdir(directory_path):\n",
    "    if filename.endswith(\".txt\"):\n",
    "        file_path = os.path.join(directory_path, filename)\n",
    "        with open(file_path, 'r', encoding='utf-8') as file:\n",
    "            text = file.read()\n",
    "            classified_data = classify_text(text, tokenizer, model, label_encoder)\n",
    "            chapter_authors[filename] = classified_data\n",
    "\n",
    "for chapter, data in chapter_authors.items():\n",
    "    author_counts = {}\n",
    "    total_sentences = len(data)\n",
    "    \n",
    "    for item in data:\n",
    "        label = item['label']\n",
    "        author_counts[label] = author_counts.get(label, 0) + 1\n",
    "        \n",
    "    sorted_authors = sorted(author_counts.items(), key=lambda x: x[1], reverse=True)\n",
    "    df = pd.DataFrame(sorted_authors, columns=['Author', 'Count'])\n",
    "    df['Percentage'] = (df['Count'] / total_sentences * 100).round(2)\n",
    "    df['Chapter'] = chapter\n",
    "    \n",
    "    print(f\"Results for {chapter}:\")\n",
    "    print(df)\n",
    "    print(\"\\n\")"
   ]
  }
 ],
 "metadata": {
  "kernelspec": {
   "display_name": "Python 3 (ipykernel)",
   "language": "python",
   "name": "python3"
  },
  "language_info": {
   "codemirror_mode": {
    "name": "ipython",
    "version": 3
   },
   "file_extension": ".py",
   "mimetype": "text/x-python",
   "name": "python",
   "nbconvert_exporter": "python",
   "pygments_lexer": "ipython3",
   "version": "3.9.7"
  }
 },
 "nbformat": 4,
 "nbformat_minor": 5
}
